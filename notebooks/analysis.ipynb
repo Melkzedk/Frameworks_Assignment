{
 "cells": [
  {
   "cell_type": "code",
   "execution_count": null,
   "id": "793aa372",
   "metadata": {
    "vscode": {
     "languageId": "plaintext"
    }
   },
   "outputs": [],
   "source": [
    "# Analysis of CORD-19 Metadata\n",
    "import pandas as pd\n",
    "import matplotlib.pyplot as plt\n",
    "import seaborn as sns\n",
    "from collections import Counter\n",
    "from wordcloud import WordCloud\n",
    "\n",
    "# Load dataset\n",
    "df = pd.read_csv(\"../data/metadata.csv\")\n",
    "\n",
    "# Basic info\n",
    "print(\"Shape:\", df.shape)\n",
    "print(df.info())\n",
    "print(df.head())\n",
    "\n",
    "# Handle missing values\n",
    "df['publish_time'] = pd.to_datetime(df['publish_time'], errors=\"coerce\")\n",
    "df['year'] = df['publish_time'].dt.year\n",
    "\n",
    "# Publications by Year\n",
    "year_counts = df['year'].value_counts().sort_index()\n",
    "plt.figure(figsize=(8,5))\n",
    "sns.barplot(x=year_counts.index, y=year_counts.values)\n",
    "plt.title(\"Publications by Year\")\n",
    "plt.show()\n",
    "\n",
    "# Top Journals\n",
    "top_journals = df['journal'].value_counts().head(10)\n",
    "plt.figure(figsize=(8,5))\n",
    "sns.barplot(y=top_journals.index, x=top_journals.values)\n",
    "plt.title(\"Top 10 Journals\")\n",
    "plt.show()\n",
    "\n",
    "# Word frequency in titles\n",
    "words = \" \".join(df['title'].dropna()).lower().split()\n",
    "common_words = Counter(words).most_common(20)\n",
    "print(\"Most common words in titles:\", common_words)\n",
    "\n",
    "# Wordcloud\n",
    "wordcloud = WordCloud(width=800, height=400, background_color=\"white\").generate(\" \".join(words))\n",
    "plt.imshow(wordcloud, interpolation=\"bilinear\")\n",
    "plt.axis(\"off\")\n",
    "plt.show()\n"
   ]
  }
 ],
 "metadata": {
  "language_info": {
   "name": "python"
  }
 },
 "nbformat": 4,
 "nbformat_minor": 5
}
